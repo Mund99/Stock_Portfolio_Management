{
 "cells": [
  {
   "cell_type": "markdown",
   "metadata": {
    "id": "OlypuqSyaolQ"
   },
   "source": [
    "# **Stock Portfolio Management System**"
   ]
  },
  {
   "cell_type": "markdown",
   "metadata": {
    "id": "6djRMubCwlUX"
   },
   "source": [
    "## Step 0: Pre Setup"
   ]
  },
  {
   "cell_type": "code",
   "execution_count": 1,
   "metadata": {
    "id": "LGpSP71ftUhs"
   },
   "outputs": [],
   "source": [
    "# Import python libraries\n",
    "import pandas as pd\n",
    "import numpy as np\n",
    "import yfinance as yf\n",
    "import matplotlib.pyplot as plt\n",
    "import seaborn as sns\n",
    "import matplotlib.colors as mcolors\n",
    "import ipywidgets as widgets\n",
    "import re\n",
    "\n",
    "from datetime import datetime\n",
    "from typing import List, Dict, Union\n",
    "\n",
    "pd.options.display.float_format = '{:.2f}'.format"
   ]
  },
  {
   "cell_type": "markdown",
   "metadata": {
    "id": "MCTghuPDcN-i"
   },
   "source": [
    "## Step 1: Obtaining Data"
   ]
  },
  {
   "cell_type": "code",
   "execution_count": 2,
   "metadata": {},
   "outputs": [],
   "source": [
    "# Method 1: Obtain from Google Sheets\n",
    "\n",
    "# # Set up authentication to Google Sheets\n",
    "# from google.oauth2 import service_account\n",
    "# from googleapiclient.discovery import build\n",
    "\n",
    "# serviceAccountKeyLocation = 'insert the key location'\n",
    "# creds = service_account.Credentials.from_service_account_file(serviceAccountKeyLocation)\n",
    "# sheet_id = 'Insert your sheet id'\n",
    "# sheet_range = 'Record!A:H'\n",
    "# service = build('sheets', 'v4', credentials=creds)\n",
    "\n",
    "# # Retrieve data from the sheet\n",
    "# result = service.spreadsheets().values().get(spreadsheetId=sheet_id, range=sheet_range).execute()\n",
    "# data = result.get('values', [])\n",
    "\n",
    "# df = pd.DataFrame(data[1:], columns=data[0])"
   ]
  },
  {
   "cell_type": "code",
   "execution_count": 3,
   "metadata": {
    "id": "alg41ghsNO5A"
   },
   "outputs": [],
   "source": [
    "# Method 2: Obtain from import file \n",
    "df = pd.read_excel('Trade_Record.xlsx')"
   ]
  },
  {
   "cell_type": "code",
   "execution_count": 4,
   "metadata": {
    "colab": {
     "base_uri": "https://localhost:8080/",
     "height": 206
    },
    "id": "-spgjpV2F0YW",
    "outputId": "c8488ba1-73b1-4d26-88c9-81bcc86e798d"
   },
   "outputs": [
    {
     "data": {
      "text/html": [
       "<div>\n",
       "<style scoped>\n",
       "    .dataframe tbody tr th:only-of-type {\n",
       "        vertical-align: middle;\n",
       "    }\n",
       "\n",
       "    .dataframe tbody tr th {\n",
       "        vertical-align: top;\n",
       "    }\n",
       "\n",
       "    .dataframe thead th {\n",
       "        text-align: right;\n",
       "    }\n",
       "</style>\n",
       "<table border=\"1\" class=\"dataframe\">\n",
       "  <thead>\n",
       "    <tr style=\"text-align: right;\">\n",
       "      <th></th>\n",
       "      <th>Date</th>\n",
       "      <th>Type</th>\n",
       "      <th>Broker</th>\n",
       "      <th>Ticker</th>\n",
       "      <th>Transacted Units</th>\n",
       "      <th>Transacted Price (per unit)</th>\n",
       "      <th>Fees</th>\n",
       "      <th>Stock Split Ratio</th>\n",
       "    </tr>\n",
       "  </thead>\n",
       "  <tbody>\n",
       "    <tr>\n",
       "      <th>0</th>\n",
       "      <td>2022-03-02</td>\n",
       "      <td>Dep</td>\n",
       "      <td>IBKR</td>\n",
       "      <td>NaN</td>\n",
       "      <td>NaN</td>\n",
       "      <td>$5000.00</td>\n",
       "      <td>NaN</td>\n",
       "      <td>NaN</td>\n",
       "    </tr>\n",
       "    <tr>\n",
       "      <th>1</th>\n",
       "      <td>2022-03-03</td>\n",
       "      <td>Dep</td>\n",
       "      <td>IBKR</td>\n",
       "      <td>NaN</td>\n",
       "      <td>NaN</td>\n",
       "      <td>$2000.00</td>\n",
       "      <td>NaN</td>\n",
       "      <td>NaN</td>\n",
       "    </tr>\n",
       "    <tr>\n",
       "      <th>2</th>\n",
       "      <td>2022-03-04</td>\n",
       "      <td>Buy</td>\n",
       "      <td>IBKR</td>\n",
       "      <td>AAPL</td>\n",
       "      <td>2.50</td>\n",
       "      <td>$164.94</td>\n",
       "      <td>$1.00</td>\n",
       "      <td>NaN</td>\n",
       "    </tr>\n",
       "    <tr>\n",
       "      <th>3</th>\n",
       "      <td>2022-03-04</td>\n",
       "      <td>Buy</td>\n",
       "      <td>IBKR</td>\n",
       "      <td>TSLA</td>\n",
       "      <td>1.32</td>\n",
       "      <td>$839.97</td>\n",
       "      <td>$1.00</td>\n",
       "      <td>NaN</td>\n",
       "    </tr>\n",
       "    <tr>\n",
       "      <th>4</th>\n",
       "      <td>2022-03-14</td>\n",
       "      <td>Buy</td>\n",
       "      <td>IBKR</td>\n",
       "      <td>TSLA</td>\n",
       "      <td>2.20</td>\n",
       "      <td>$759.09</td>\n",
       "      <td>$1.00</td>\n",
       "      <td>NaN</td>\n",
       "    </tr>\n",
       "  </tbody>\n",
       "</table>\n",
       "</div>"
      ],
      "text/plain": [
       "        Date Type Broker Ticker  Transacted Units Transacted Price (per unit)   \n",
       "0 2022-03-02  Dep   IBKR    NaN               NaN                    $5000.00  \\\n",
       "1 2022-03-03  Dep   IBKR    NaN               NaN                    $2000.00   \n",
       "2 2022-03-04  Buy   IBKR   AAPL              2.50                     $164.94   \n",
       "3 2022-03-04  Buy   IBKR   TSLA              1.32                     $839.97   \n",
       "4 2022-03-14  Buy   IBKR   TSLA              2.20                     $759.09   \n",
       "\n",
       "    Fees  Stock Split Ratio  \n",
       "0    NaN                NaN  \n",
       "1    NaN                NaN  \n",
       "2  $1.00                NaN  \n",
       "3  $1.00                NaN  \n",
       "4  $1.00                NaN  "
      ]
     },
     "execution_count": 4,
     "metadata": {},
     "output_type": "execute_result"
    }
   ],
   "source": [
    "# print the dataframe\n",
    "df.head()"
   ]
  },
  {
   "cell_type": "code",
   "execution_count": 5,
   "metadata": {
    "id": "lotAmuSoXcme"
   },
   "outputs": [],
   "source": [
    "def split_by_broker(df):\n",
    "    \"\"\"\n",
    "    Splits a pandas DataFrame by unique values in the 'Broker' column, creating\n",
    "    separate DataFrames for each unique broker.\n",
    "\n",
    "    Args:\n",
    "        df: A pandas DataFrame with a 'Broker' column.\n",
    "\n",
    "    Returns:\n",
    "        A dictionary of DataFrames, where each key is a string with the format\n",
    "        'df_<broker name>' and the value is a pandas DataFrame containing all\n",
    "        rows with that broker name in the 'Broker' column.\n",
    "    \"\"\"\n",
    "    # Get a list of unique broker names in the DataFrame\n",
    "    unique_brokers = df['Broker'].unique()\n",
    "\n",
    "    # If there's only one unique broker, return a dictionary with a single\n",
    "    # entry containing the original DataFrame\n",
    "    if len(unique_brokers) == 1:\n",
    "        return {'df_' + unique_brokers[0]: df}\n",
    "    else:\n",
    "        # Create an empty dictionary to hold the split DataFrames\n",
    "        dfs = {}\n",
    "        # Loop over each unique broker name\n",
    "        for broker in unique_brokers:\n",
    "            # Filter the original DataFrame to include only rows with\n",
    "            # the current broker name\n",
    "            dfs['df_' + broker] = df[df['Broker'] == broker]\n",
    "        # Return the dictionary of split DataFrames\n",
    "        return dfs\n",
    "\n",
    "\n",
    "# # Example Usage\n",
    "# dfs = split_by_broker(df)\n",
    "# df_IBKR = dfs['df_IBKR']"
   ]
  },
  {
   "cell_type": "markdown",
   "metadata": {
    "id": "CUWKXqi0mVpk"
   },
   "source": [
    "## Step 2: Scrubbing Data"
   ]
  },
  {
   "cell_type": "code",
   "execution_count": 6,
   "metadata": {},
   "outputs": [
    {
     "name": "stdout",
     "output_type": "stream",
     "text": [
      "<class 'pandas.core.frame.DataFrame'>\n",
      "RangeIndex: 13 entries, 0 to 12\n",
      "Data columns (total 8 columns):\n",
      " #   Column                       Non-Null Count  Dtype         \n",
      "---  ------                       --------------  -----         \n",
      " 0   Date                         13 non-null     datetime64[ns]\n",
      " 1   Type                         13 non-null     object        \n",
      " 2   Broker                       13 non-null     object        \n",
      " 3   Ticker                       9 non-null      object        \n",
      " 4   Transacted Units             8 non-null      float64       \n",
      " 5   Transacted Price (per unit)  12 non-null     object        \n",
      " 6   Fees                         9 non-null      object        \n",
      " 7   Stock Split Ratio            1 non-null      float64       \n",
      "dtypes: datetime64[ns](1), float64(2), object(5)\n",
      "memory usage: 964.0+ bytes\n"
     ]
    }
   ],
   "source": [
    "df.info()"
   ]
  },
  {
   "cell_type": "code",
   "execution_count": 7,
   "metadata": {
    "id": "qV1kOQI_Q6_6"
   },
   "outputs": [],
   "source": [
    "# Convert the 'Date' column to datetime format\n",
    "df['Date'] = pd.to_datetime(df['Date'], format='%d %b %Y')\n",
    "\n",
    "# Convert numerical columns from strings to numerical format\n",
    "for col in ['Transacted Units', 'Transacted Price (per unit)', 'Fees','Stock Split Ratio']:\n",
    "    df[col] = df[col].astype(str).str.replace(r'\\$', '', regex=True).str.replace(',', '')\n",
    "    df[col] = pd.to_numeric(df[col], errors='coerce')\n",
    "\n",
    "# Replace whitespace and empty strings with NaN values\n",
    "df.replace(r'^\\s*$', np.nan, regex=True, inplace=True)\n",
    "\n",
    "# Fill in the missing values\n",
    "fill_values = {'Date': pd.NaT, 'Type': 'NA', 'Ticker': 'NA', 'Transacted Units': 0, 'Transacted Price (per unit)': 0, 'Fees': 0, 'Stock Split Ratio': 0}\n",
    "df = df.fillna(value=fill_values)"
   ]
  },
  {
   "cell_type": "code",
   "execution_count": 8,
   "metadata": {
    "colab": {
     "base_uri": "https://localhost:8080/",
     "height": 0
    },
    "id": "gLgqgORNGDm4",
    "outputId": "958ada1d-16bb-40c0-edbd-f227443ebb96"
   },
   "outputs": [
    {
     "data": {
      "text/html": [
       "<div>\n",
       "<style scoped>\n",
       "    .dataframe tbody tr th:only-of-type {\n",
       "        vertical-align: middle;\n",
       "    }\n",
       "\n",
       "    .dataframe tbody tr th {\n",
       "        vertical-align: top;\n",
       "    }\n",
       "\n",
       "    .dataframe thead th {\n",
       "        text-align: right;\n",
       "    }\n",
       "</style>\n",
       "<table border=\"1\" class=\"dataframe\">\n",
       "  <thead>\n",
       "    <tr style=\"text-align: right;\">\n",
       "      <th></th>\n",
       "      <th>Date</th>\n",
       "      <th>Type</th>\n",
       "      <th>Broker</th>\n",
       "      <th>Ticker</th>\n",
       "      <th>Transacted Units</th>\n",
       "      <th>Transacted Price (per unit)</th>\n",
       "      <th>Fees</th>\n",
       "      <th>Stock Split Ratio</th>\n",
       "    </tr>\n",
       "  </thead>\n",
       "  <tbody>\n",
       "    <tr>\n",
       "      <th>0</th>\n",
       "      <td>2022-03-02</td>\n",
       "      <td>Dep</td>\n",
       "      <td>IBKR</td>\n",
       "      <td>NA</td>\n",
       "      <td>0.00</td>\n",
       "      <td>5000.00</td>\n",
       "      <td>0.00</td>\n",
       "      <td>0.00</td>\n",
       "    </tr>\n",
       "    <tr>\n",
       "      <th>1</th>\n",
       "      <td>2022-03-03</td>\n",
       "      <td>Dep</td>\n",
       "      <td>IBKR</td>\n",
       "      <td>NA</td>\n",
       "      <td>0.00</td>\n",
       "      <td>2000.00</td>\n",
       "      <td>0.00</td>\n",
       "      <td>0.00</td>\n",
       "    </tr>\n",
       "    <tr>\n",
       "      <th>2</th>\n",
       "      <td>2022-03-04</td>\n",
       "      <td>Buy</td>\n",
       "      <td>IBKR</td>\n",
       "      <td>AAPL</td>\n",
       "      <td>2.50</td>\n",
       "      <td>164.94</td>\n",
       "      <td>1.00</td>\n",
       "      <td>0.00</td>\n",
       "    </tr>\n",
       "    <tr>\n",
       "      <th>3</th>\n",
       "      <td>2022-03-04</td>\n",
       "      <td>Buy</td>\n",
       "      <td>IBKR</td>\n",
       "      <td>TSLA</td>\n",
       "      <td>1.32</td>\n",
       "      <td>839.97</td>\n",
       "      <td>1.00</td>\n",
       "      <td>0.00</td>\n",
       "    </tr>\n",
       "    <tr>\n",
       "      <th>4</th>\n",
       "      <td>2022-03-14</td>\n",
       "      <td>Buy</td>\n",
       "      <td>IBKR</td>\n",
       "      <td>TSLA</td>\n",
       "      <td>2.20</td>\n",
       "      <td>759.09</td>\n",
       "      <td>1.00</td>\n",
       "      <td>0.00</td>\n",
       "    </tr>\n",
       "  </tbody>\n",
       "</table>\n",
       "</div>"
      ],
      "text/plain": [
       "        Date Type Broker Ticker  Transacted Units   \n",
       "0 2022-03-02  Dep   IBKR     NA              0.00  \\\n",
       "1 2022-03-03  Dep   IBKR     NA              0.00   \n",
       "2 2022-03-04  Buy   IBKR   AAPL              2.50   \n",
       "3 2022-03-04  Buy   IBKR   TSLA              1.32   \n",
       "4 2022-03-14  Buy   IBKR   TSLA              2.20   \n",
       "\n",
       "   Transacted Price (per unit)  Fees  Stock Split Ratio  \n",
       "0                      5000.00  0.00               0.00  \n",
       "1                      2000.00  0.00               0.00  \n",
       "2                       164.94  1.00               0.00  \n",
       "3                       839.97  1.00               0.00  \n",
       "4                       759.09  1.00               0.00  "
      ]
     },
     "execution_count": 8,
     "metadata": {},
     "output_type": "execute_result"
    }
   ],
   "source": [
    "# print the updated dataframe\n",
    "df.head()"
   ]
  },
  {
   "cell_type": "markdown",
   "metadata": {
    "id": "hhHFj79koaME"
   },
   "source": [
    "## Step 3: Transforming Data"
   ]
  },
  {
   "cell_type": "markdown",
   "metadata": {
    "id": "pIQkri4y5XNT"
   },
   "source": [
    "### 1. Trades Dataframe"
   ]
  },
  {
   "cell_type": "code",
   "execution_count": 9,
   "metadata": {
    "id": "KQdOGW5j4NSJ"
   },
   "outputs": [],
   "source": [
    "def create_trades_df(df: pd.DataFrame) -> pd.DataFrame:\n",
    "    \"\"\"\n",
    "    Create a new DataFrame with additional columns for tracking trade information.\n",
    "\n",
    "    Args:\n",
    "        df: A Pandas DataFrame representing the trades.\n",
    "\n",
    "    Returns:\n",
    "        A new Pandas DataFrame with additional columns for tracking trade information.\n",
    "    \"\"\"\n",
    "    trades_df = df.copy()\n",
    "    trades_df[['Transacted Value', 'Previous Units', 'Cumulative Units', 'Previous Cost',\n",
    "               'Cost Basis', 'Cumulative Cost', 'Realized Gain/Loss ($)',\n",
    "               'Realized Gain/Loss (%)', 'Cash Balance', 'Cash Flow', 'Net Cash Injection']] = np.nan\n",
    "    return trades_df"
   ]
  },
  {
   "cell_type": "code",
   "execution_count": 10,
   "metadata": {
    "id": "dHEqEB7xX3ht"
   },
   "outputs": [],
   "source": [
    "def calculate_transacted_value(trades_df: pd.DataFrame) -> pd.DataFrame:\n",
    "    \"\"\"\n",
    "    Calculates the transacted value of each transaction in a dataframe based on its type.\n",
    "\n",
    "    Args:\n",
    "        trades_df (pd.DataFrame): A dataframe containing transaction data.\n",
    "\n",
    "    Returns:\n",
    "        pd.DataFrame: The original dataframe with an additional column called \"Transacted Value\" containing\n",
    "                      the calculated transacted value for each transaction.\n",
    "    \"\"\"\n",
    "    transacted_value = []\n",
    "    for index, row in trades_df.iterrows():\n",
    "        if row['Type'] in ['Dep', 'Withd']:\n",
    "            transacted_value.append(row['Transacted Price (per unit)'])\n",
    "        elif row['Type'] == 'Buy':\n",
    "            transacted_value.append(row['Transacted Units'] * row['Transacted Price (per unit)'] + row['Fees'])\n",
    "        elif row['Type'] in ['Sell', 'Div']:\n",
    "            transacted_value.append(row['Transacted Units'] * row['Transacted Price (per unit)'] - row['Fees'])\n",
    "        else:\n",
    "            transacted_value.append(np.nan)\n",
    "    trades_df['Transacted Value'] = transacted_value\n",
    "    return trades_df"
   ]
  },
  {
   "cell_type": "code",
   "execution_count": 11,
   "metadata": {
    "id": "m95qjKrH6Fvt"
   },
   "outputs": [],
   "source": [
    "def calculate_cash_balance(trades_df: pd.DataFrame) -> pd.DataFrame:\n",
    "    \"\"\"Calculate the cash balance after each transaction.\n",
    "\n",
    "    Args:\n",
    "        trades_df (pd.DataFrame): A DataFrame containing the transaction data.\n",
    "\n",
    "    Returns:\n",
    "        pd.DataFrame: A copy of the input DataFrame with a 'Cash Balance' column added.\n",
    "    \"\"\"\n",
    "    cash_balance = 0\n",
    "\n",
    "    for index, row in trades_df.iterrows():\n",
    "        transacted_value = row['Transacted Value']\n",
    "        if index == 0:\n",
    "            cash_balance = transacted_value\n",
    "        else:\n",
    "            previous_balance = trades_df.at[index-1, 'Cash Balance']\n",
    "            if row['Type'] in ['Dep', 'Sell', 'Div']:\n",
    "                cash_balance = previous_balance + transacted_value\n",
    "            elif row['Type'] in ['Withd', 'Buy']:\n",
    "                cash_balance = previous_balance - transacted_value\n",
    "            elif row['Type'] in ['Split']:\n",
    "                cash_balance = previous_balance\n",
    "        trades_df.at[index, 'Cash Balance'] = cash_balance\n",
    "\n",
    "    return trades_df"
   ]
  },
  {
   "cell_type": "code",
   "execution_count": 12,
   "metadata": {
    "id": "SObeZE2wEkph"
   },
   "outputs": [],
   "source": [
    "def calculate_net_cash_injection(trades_df: pd.DataFrame) -> pd.DataFrame:\n",
    "    \"\"\"\n",
    "    Calculates the net cash injection for each trade in the input DataFrame.\n",
    "\n",
    "    The net cash injection is defined as the total amount of cash deposited minus the total amount of cash withdrawn.\n",
    "\n",
    "    Args:\n",
    "        trades_df: A Pandas DataFrame containing the trades.\n",
    "\n",
    "    Returns:\n",
    "        Update trades_df for the coloumn 'Cash Flow' and 'Net Cash Injection'.\n",
    "    \"\"\"\n",
    "\n",
    "    # Calculate the cash flow for each trade based on the type of transaction\n",
    "    trades_df['Cash Flow'] = np.where(trades_df['Type'].isin(['Dep', 'Withd']),\n",
    "                                      np.where(trades_df['Type'] == 'Withd', -trades_df['Transacted Value'], trades_df['Transacted Value']),\n",
    "                                      0)\n",
    "\n",
    "    # Calculate the cumulative net cash injection for each trade\n",
    "    trades_df['Net Cash Injection'] = trades_df['Cash Flow'].cumsum()\n",
    "\n",
    "    return trades_df"
   ]
  },
  {
   "cell_type": "code",
   "execution_count": 13,
   "metadata": {
    "id": "CDO5DIM3a_LJ"
   },
   "outputs": [],
   "source": [
    "def calculate_cost_and_roi(trades_df: pd.DataFrame) -> pd.DataFrame:\n",
    "    \"\"\"\n",
    "    Calculate the costs and net roi after each transaction.\n",
    "\n",
    "    Args:\n",
    "        trades_df (pd.DataFrame): DataFrame of trades.\n",
    "\n",
    "    Returns:\n",
    "        pd.DataFrame: Updated DataFrame of trades with costs and net roi calculated.\n",
    "    \"\"\"\n",
    "    trades_df['Previous Cost'] = 0\n",
    "    trades_df['Cumulative Cost'] = 0\n",
    "    cost = {}\n",
    "\n",
    "    # Iterate through each row of trades_df\n",
    "    for index, row in trades_df.iterrows():\n",
    "        ticker = row['Ticker']\n",
    "\n",
    "        # Check if ticker is not in cost dictionary and is not 'NA'\n",
    "        if ticker not in cost and ticker != 'NA':\n",
    "            cost[ticker] = 0.00\n",
    "\n",
    "        # Check if ticker is not 'NA'\n",
    "        if ticker != 'NA':\n",
    "            # Update 'Previous Cost' at the current row\n",
    "            trades_df.at[index, 'Previous Cost'] = cost[ticker]\n",
    "\n",
    "            # Calculate cost basis for Sell & Div transactions\n",
    "            if row['Type'] == 'Sell':\n",
    "                cost_basis = (row['Transacted Units'] / row['Previous Units']) * cost[ticker]\n",
    "                trades_df.at[index, 'Cost Basis'] = cost_basis\n",
    "\n",
    "                # Update the 'Realized Gain/Loss ($)' for the current row\n",
    "                realized_gl = row['Transacted Value'] - cost_basis\n",
    "                trades_df.at[index, 'Realized Gain/Loss ($)'] = realized_gl\n",
    "\n",
    "                if cost_basis != 0:\n",
    "                    realized_gl_pct = realized_gl / cost_basis * 100\n",
    "                    trades_df.at[index, 'Realized Gain/Loss (%)'] = realized_gl_pct\n",
    "                else:\n",
    "                    trades_df.at[index, 'Realized Gain/Loss (%)'] = 0\n",
    "\n",
    "            elif row['Type'] == 'Div':\n",
    "                # Update the 'Realized Gain/Loss ($)' for the current row\n",
    "                trades_df.at[index, 'Realized Gain/Loss ($)'] = row['Transacted Value']\n",
    "\n",
    "                # Update the 'Realized Gain/Loss (%)' for the current row\n",
    "                if cost[ticker] != 0:\n",
    "                    realized_gl_pct = row['Transacted Value'] / cost[ticker] * 100\n",
    "                    trades_df.at[index, 'Realized Gain/Loss (%)'] = realized_gl_pct\n",
    "                else:\n",
    "                    trades_df.at[index, 'Realized Gain/Loss (%)'] = 0\n",
    "\n",
    "            # Update the cumulative cost based on the transaction type\n",
    "            if row['Type'] == 'Buy':\n",
    "                cost[ticker] += row['Transacted Value']\n",
    "            elif row['Type'] == 'Sell':\n",
    "                cost[ticker] -= cost_basis\n",
    "\n",
    "            # Update the 'Cumulative Cost' for the current row\n",
    "            trades_df.at[index, 'Cumulative Cost'] = cost[ticker]\n",
    "\n",
    "    return trades_df"
   ]
  },
  {
   "cell_type": "code",
   "execution_count": 14,
   "metadata": {
    "id": "UsAqY4Q-YXyc"
   },
   "outputs": [],
   "source": [
    "def calculate_units(trades_df: pd.DataFrame) -> pd.DataFrame:\n",
    "    \"\"\"\n",
    "    Calculate the previous units and cumulative units after each transaction.\n",
    "\n",
    "    Args:\n",
    "        trades_df (pd.DataFrame): DataFrame of trades.\n",
    "\n",
    "    Returns:\n",
    "        pd.DataFrame: Updated DataFrame of trades with previous and cumulative units calculated.\n",
    "    \"\"\"\n",
    "\n",
    "    # Add columns for Previous Units and Cumulative Units\n",
    "    trades_df['Previous Units'] = 0\n",
    "    trades_df['Cumulative Units'] = 0\n",
    "\n",
    "    # Create a dictionary to store units for each ticker\n",
    "    units = {}\n",
    "\n",
    "    # Iterate through each row of trades_df\n",
    "    for index, row in trades_df.iterrows():\n",
    "        ticker = row['Ticker']\n",
    "\n",
    "        # Check if ticker is not in units dictionary and is not 'NA'\n",
    "        if ticker not in units and ticker != 'NA':\n",
    "            # Set units to 0 for the ticker\n",
    "            units[ticker] = 0\n",
    "\n",
    "        # Check if ticker is not 'NA'\n",
    "        if ticker != 'NA':\n",
    "            # Update the Previous Units for the current row\n",
    "            trades_df.at[index, 'Previous Units'] = units[ticker]\n",
    "\n",
    "            # Update the cumulative units based on the transaction type\n",
    "            if row['Type'] == 'Buy':\n",
    "                units[ticker] += row['Transacted Units']\n",
    "            elif row['Type'] == 'Sell':\n",
    "                units[ticker] -= row['Transacted Units']\n",
    "            elif row['Type'] == 'Split':\n",
    "                units[ticker] *= row['Stock Split Ratio']\n",
    "\n",
    "            # Update the Cumulative Units for the current row\n",
    "            trades_df.at[index, 'Cumulative Units'] = units[ticker]\n",
    "\n",
    "    return trades_df"
   ]
  },
  {
   "cell_type": "markdown",
   "metadata": {
    "id": "A0otxOXjKj-n"
   },
   "source": [
    "### 2. Close Price Dataframe"
   ]
  },
  {
   "cell_type": "code",
   "execution_count": 15,
   "metadata": {
    "id": "fmnuuuAM_rWt"
   },
   "outputs": [],
   "source": [
    "def download_close_prices(df, start_date, end_date ='today'):\n",
    "    \"\"\"\n",
    "    Downloads the close prices for all tickers in the trades dataframe for the specified date range using yfinance.\n",
    "\n",
    "    Args:\n",
    "        df (pd.DataFrame): DataFrame containing the trades data.\n",
    "        end_date (str, optional): End date of the date range to download data for. Defaults to 'today'.\n",
    "\n",
    "    Returns:\n",
    "        pd.DataFrame: DataFrame containing the close prices for all tickers in the trades dataframe for the specified date range.\n",
    "    \"\"\"\n",
    "    # Get start and end dates\n",
    "    start_date = start_date\n",
    "    #end_date = start_date + pd.Timedelta(days=20)\n",
    "    end_date = pd.to_datetime(end_date)\n",
    "\n",
    "    # Generate date range\n",
    "    date_range = pd.date_range(start=start_date, end=end_date, freq='D')\n",
    "\n",
    "    # Download data for all tickers for the given date range using yfinance\n",
    "    tickers = df['Ticker'][df['Ticker'] != 'NA'].unique()\n",
    "\n",
    "    close_price_df = pd.DataFrame(index=date_range)\n",
    "\n",
    "    for ticker in tickers:\n",
    "        try:\n",
    "            ticker_data = yf.download(ticker, start=start_date, end=end_date, actions=True)\n",
    "            close_price_df[ticker] = ticker_data['Close']\n",
    "            close_price_df.fillna(method='ffill', inplace=True)\n",
    "\n",
    "            splits = ticker_data[ticker_data['Stock Splits'] != 0]['Stock Splits']\n",
    "            for split_date, split_ratio in splits.items():\n",
    "                close_price_df.loc[close_price_df.index <= split_date + pd.Timedelta(days=-1), ticker] *= split_ratio\n",
    "\n",
    "        except:\n",
    "            print(f\"Failed to download data for {ticker}\")\n",
    "\n",
    "    return close_price_df"
   ]
  },
  {
   "cell_type": "markdown",
   "metadata": {
    "id": "nVWg87LbU9wa"
   },
   "source": [
    "### 3. Equity Valuation Dataframe"
   ]
  },
  {
   "cell_type": "code",
   "execution_count": 16,
   "metadata": {
    "id": "h1qP1Y3-pvih"
   },
   "outputs": [],
   "source": [
    "def get_equity_valuation_df(trades_df, close_price_df, option_mini_detailed=\"mini\", date=None):\n",
    "    \"\"\"\n",
    "    This function takes in two dataframes: trades_df and close_price_df,\n",
    "    and returns a summary of the trades made and their performance for each ticker.\n",
    "    The function calculates the current price of each ticker from the close_price_df based on the provided date.\n",
    "    The function also calculates the number of shares, cost, market value, unrealized gain/loss, and ROI for each ticker.\n",
    "\n",
    "    Args:\n",
    "        trades_df (pd.DataFrame): a dataframe containing the trades made for each ticker\n",
    "        close_price_df (pd.DataFrame): a dataframe containing the close prices for each ticker for each date\n",
    "        option_mini_detailed (str): an optional parameter to specify the level of detail in the output dataframe.\n",
    "                                    \"mini\" (default) includes basic information, \"detailed\" includes additional information.\n",
    "        date (str): an optional parameter to specify the date to use for calculating current prices.\n",
    "                    If not provided, it uses the current date.\n",
    "\n",
    "    Returns:\n",
    "        pd.DataFrame: a summary of the trades made and their performance for each ticker\n",
    "\n",
    "    \"\"\"\n",
    "\n",
    "    # If date is not provided, use today's date\n",
    "    if date is None:\n",
    "        date = pd.Timestamp.today().normalize()\n",
    "    else:\n",
    "        date = pd.Timestamp(date).normalize()\n",
    "\n",
    "    # Filter trades_df based on the date (less than or equal to)\n",
    "    filtered_trades_df = trades_df.loc[(trades_df['Date'] <= date) & (trades_df['Ticker'] != 'NA')]\n",
    "    tickers = sorted(filtered_trades_df['Ticker'].unique().tolist())\n",
    "\n",
    "    # Search the close price in close_price_df for each ticker based on the date\n",
    "    close_price = []\n",
    "    for ticker in tickers:\n",
    "        # Select the row with the matching date\n",
    "        row = close_price_df.loc[date]\n",
    "\n",
    "        # Extract the close price for the current ticker\n",
    "        price = row.loc[ticker]\n",
    "\n",
    "        # Append the ticker and close price to the list\n",
    "        close_price.append((ticker, price))\n",
    "\n",
    "    # Store the ticker and close price in equity_valuation_df\n",
    "    equity_valuation_df = pd.DataFrame(close_price, columns=['Asset', 'Closing Price ($)'])\n",
    "\n",
    "    # Get the number of shares and cost for each ticker from trades_df_filtered\n",
    "    filtered_df_grouped = filtered_trades_df.groupby('Ticker').tail(1).groupby('Ticker').agg({'Cumulative Units': 'last', 'Cumulative Cost': 'last'})\n",
    "\n",
    "    # Add Shares and Cost columns to equity_valuation_df\n",
    "    equity_valuation_df['No. of Units'] = np.round(filtered_df_grouped['Cumulative Units'].reindex(equity_valuation_df['Asset']).values, 6)\n",
    "    equity_valuation_df['Total Cost ($)'] = np.round(filtered_df_grouped['Cumulative Cost'].reindex(equity_valuation_df['Asset']).values, 6)\n",
    "\n",
    "    # Add other columns to equity_valuation_df\n",
    "    equity_valuation_df['Average Cost per Unit ($)'] = equity_valuation_df['Total Cost ($)'] / equity_valuation_df['No. of Units']\n",
    "    equity_valuation_df['Open'] = equity_valuation_df['No. of Units'] > 0\n",
    "    equity_valuation_df['Market Value ($)'] = equity_valuation_df['No. of Units'] * equity_valuation_df['Closing Price ($)']\n",
    "\n",
    "    equity_valuation_df = equity_valuation_df[['Asset', 'Open', 'No. of Units', 'Average Cost per Unit ($)', 'Total Cost ($)', 'Closing Price ($)', 'Market Value ($)']]\n",
    "    equity_valuation_df = equity_valuation_df.sort_values(by=['Open'], ascending=False)\n",
    "    equity_valuation_df = equity_valuation_df.reset_index(drop=True)\n",
    "\n",
    "\n",
    "    # If option_mini_detailed is \"detailed\", add additional columns to equity_valuation_df\n",
    "    if option_mini_detailed == \"detailed\":\n",
    "        equity_valuation_df['Unrealized Gain/Loss ($)'] = equity_valuation_df['Market Value ($)'] - equity_valuation_df['Total Cost ($)']\n",
    "        equity_valuation_df['Unrealized Gain/Loss (%)'] = equity_valuation_df['Unrealized Gain/Loss ($)'] / equity_valuation_df['Total Cost ($)'] * 100\n",
    "        equity_valuation_df['Realized Gain/Loss ($)'] = filtered_trades_df[filtered_trades_df['Type'] == \"Sell\"].groupby('Ticker')['Realized Gain/Loss ($)'].sum().reindex(equity_valuation_df['Asset']).fillna(0).values\n",
    "        equity_valuation_df['Dividend Collected ($)'] = filtered_trades_df[filtered_trades_df['Type'] == \"Div\"].groupby('Ticker')['Realized Gain/Loss ($)'].sum().reindex(equity_valuation_df['Asset']).fillna(0).values\n",
    "        buying_cost = filtered_trades_df[filtered_trades_df['Type'] == \"Buy\"].groupby('Ticker')['Transacted Value'].sum().reindex(equity_valuation_df['Asset']).fillna(0).values\n",
    "        equity_valuation_df['Net ROI ($)'] = equity_valuation_df['Unrealized Gain/Loss ($)'] + equity_valuation_df['Realized Gain/Loss ($)'] + equity_valuation_df['Dividend Collected ($)']\n",
    "        equity_valuation_df['Net ROI (%)'] = equity_valuation_df['Net ROI ($)'] / buying_cost * 100\n",
    "\n",
    "        equity_valuation_df['Weightage w/o Cash (%)'] = equity_valuation_df['Market Value ($)'] / equity_valuation_df['Market Value ($)'].sum() * 100\n",
    "\n",
    "\n",
    "        # create a new row to insert the cash amount\n",
    "        cash_balance = trades_df.loc[(trades_df['Date'] <= date),'Cash Balance'].iloc[-1]\n",
    "        cash_row = {'Asset': 'Cash', 'Open':'True', 'Market Value ($)':cash_balance}\n",
    "\n",
    "        # insert the new row at the first index position\n",
    "        equity_valuation_df.loc[-1] = cash_row\n",
    "        equity_valuation_df.index = equity_valuation_df.index + 1\n",
    "        equity_valuation_df = equity_valuation_df.sort_index()\n",
    "\n",
    "        equity_valuation_df['Weightage w. Cash (%)'] = equity_valuation_df['Market Value ($)'] / equity_valuation_df['Market Value ($)'].sum() * 100\n",
    "\n",
    "        # Reorder columns\n",
    "        equity_valuation_df = equity_valuation_df[['Asset', 'Open', 'No. of Units', 'Average Cost per Unit ($)', 'Total Cost ($)', 'Closing Price ($)', 'Market Value ($)', 'Unrealized Gain/Loss ($)', 'Unrealized Gain/Loss (%)', 'Realized Gain/Loss ($)', 'Dividend Collected ($)', 'Net ROI ($)', 'Net ROI (%)', 'Weightage w/o Cash (%)', 'Weightage w. Cash (%)']]\n",
    "\n",
    "    return equity_valuation_df"
   ]
  },
  {
   "cell_type": "markdown",
   "metadata": {
    "id": "kbxy9nznWEUk"
   },
   "source": [
    "### 4. NAV Dataframe"
   ]
  },
  {
   "cell_type": "code",
   "execution_count": 17,
   "metadata": {
    "id": "x80mcmjTEBYm"
   },
   "outputs": [],
   "source": [
    "def get_daily_nav(start_date, end_date='today'):\n",
    "    \"\"\"\n",
    "    Generate a DataFrame with daily NAV (Net Asset Value) values by looping through each trading day\n",
    "    in the specified date range and calculating the portfolio value, cash balance, and NAV for each day.\n",
    "\n",
    "    Args:\n",
    "        start_date (str or datetime, optional): The starting date for the date range. Default is the inception date.\n",
    "        end_date (str or datetime, optional): The ending date for the date range. Default is 'today'.\n",
    "\n",
    "    Returns:\n",
    "        pandas.DataFrame: A DataFrame with the columns 'Date', 'Portfolio Value', 'Cash Balance', and 'NAV',\n",
    "        where each row corresponds to a trading day in the specified date range.\n",
    "\n",
    "    \"\"\"\n",
    "\n",
    "    # Get start and end dates\n",
    "    start_date = start_date\n",
    "    end_date = pd.to_datetime(end_date)\n",
    "\n",
    "    # Generate date range\n",
    "    date_range = pd.date_range(start=start_date, end=end_date, freq='D')\n",
    "\n",
    "    # Create a new DataFrame with the list of dates\n",
    "    daily_nav_df = pd.DataFrame({'Date': date_range})\n",
    "\n",
    "    # Merge trades_df with daily_nav_df and fill forward NaN values in 'Net Cash Injection' column\n",
    "    daily_nav_df = daily_nav_df.merge(trades_df[['Date', 'Cash Flow', 'Net Cash Injection']], on='Date', how='left')\n",
    "    daily_nav_df['Cash Flow'].fillna(0, inplace=True)\n",
    "    daily_nav_df['Net Cash Injection'].fillna(method='ffill', inplace=True)\n",
    "\n",
    "    # Loop through each row\n",
    "    for i in range(len(daily_nav_df)):\n",
    "        # Get the date data\n",
    "        date = daily_nav_df.loc[i,'Date']\n",
    "\n",
    "        # Generate the trades_summary_df DataFrame for the current date\n",
    "        equity_valuation_df = get_equity_valuation_df(trades_df, close_price_df, \"mini\", date)\n",
    "\n",
    "        # Update total market value, cash balance, nav for row i in daily_nav_df\n",
    "        daily_nav_df.loc[i, 'Portfolio Value'] = equity_valuation_df.loc[:,\"Market Value ($)\"].sum()\n",
    "        daily_nav_df.loc[i, 'Cash Balance'] = trades_df.loc[(trades_df['Date'] <= date), \"Cash Balance\"].iloc[-1]\n",
    "        daily_nav_df.loc[i, 'NAV'] = daily_nav_df.loc[i, 'Portfolio Value'] + daily_nav_df.loc[i, 'Cash Balance']\n",
    "        daily_nav_df.loc[i, 'Return (%)'] = (daily_nav_df.loc[i, 'NAV'] - daily_nav_df.loc[i, 'Net Cash Injection']) / daily_nav_df.loc[i, 'Net Cash Injection'] * 100\n",
    "\n",
    "    return daily_nav_df"
   ]
  },
  {
   "cell_type": "markdown",
   "metadata": {
    "id": "fPeaAEtprWEj"
   },
   "source": [
    "## Step 4: Visualizing Data"
   ]
  },
  {
   "cell_type": "code",
   "execution_count": 18,
   "metadata": {
    "id": "uyjTpdFptaMo"
   },
   "outputs": [],
   "source": [
    "def plot_nav_over_time(trades_df, start_date=\"2022-01-01\", end_date='today'):\n",
    "    # Get the data\n",
    "    daily_nav_df = get_daily_nav(start_date, end_date)\n",
    "\n",
    "    # Set figure size and seaborn style\n",
    "    plt.figure(figsize=(15, 6)) \n",
    "    sns.set_style(\"whitegrid\")\n",
    "\n",
    "    # Plot daily NAV values over time\n",
    "    plt.plot(daily_nav_df['Date'], daily_nav_df['NAV'], linewidth=2, color='navy', marker=None)\n",
    "\n",
    "    # Set axis labels, title, and tick sizes\n",
    "    plt.xlabel('Date', fontsize=14)\n",
    "    plt.ylabel('NAV', fontsize=14)\n",
    "    plt.title('NAV Over Time', fontsize=16)\n",
    "    plt.tick_params(labelsize=12)\n",
    "\n",
    "    # Remove top and right spines, and set tick width\n",
    "    plt.gca().spines['top'].set_visible(False)\n",
    "    plt.gca().spines['right'].set_visible(False)\n",
    "    plt.gca().xaxis.set_tick_params(width=1)\n",
    "    plt.gca().yaxis.set_tick_params(width=1)\n",
    "\n",
    "    # Set background color to light gray\n",
    "    plt.gca().set_facecolor('whitesmoke')\n",
    "\n",
    "    # Calculate latest_nav, cagr, simple roi \n",
    "    latest_nav = daily_nav_df['NAV'].iloc[-1]\n",
    "\n",
    "    net_cash_injection = (trades_df.loc[trades_df['Date'] <= end_date,'Net Cash Injection'].iloc[-1]) - (trades_df.loc[trades_df['Date'] <= start_date,'Net Cash Injection'].iloc[-1])\n",
    "    begining_value = daily_nav_df['NAV'].iloc[0] + net_cash_injection\n",
    "    ending_value = daily_nav_df['NAV'].iloc[-1]\n",
    "    days_investment = (pd.to_datetime(end_date) - pd.to_datetime(start_date)).days\n",
    "    cagr = ((ending_value/begining_value) ** (365/days_investment)-1) * 100\n",
    "\n",
    "    simple_roi = ((ending_value - begining_value)/begining_value) * 100\n",
    "\n",
    "    # Define relative coordinates for the text box\n",
    "    text_x_relative = 1.02  # x-coordinate relative to the x-axis (0 to 1)\n",
    "    text_y_relative = 0.93  # y-coordinate relative to the y-axis (0 to 1)\n",
    "\n",
    "    # Get the x and y limits of the plot\n",
    "    x_min, x_max = plt.xlim()\n",
    "    y_min, y_max = plt.ylim()\n",
    "\n",
    "    # Calculate the absolute coordinates for the text box\n",
    "    text_x = x_min + (x_max - x_min) * text_x_relative\n",
    "    text_y_latest = y_min + (y_max - y_min) * text_y_relative\n",
    "    text_y_cagr = y_min + (y_max - y_min) * (text_y_relative - 0.10)\n",
    "    text_y_roi = y_min + (y_max - y_min) * (text_y_relative - 0.20) \n",
    "\n",
    "    # Add text box using plt.text\n",
    "    plt.text(text_x, text_y_latest, f'Latest NAV: ${latest_nav:.2f}', fontsize=12, color='green',\n",
    "             bbox=dict(boxstyle='round,pad=0.4', facecolor='whitesmoke', edgecolor='gray'))\n",
    "    plt.text(text_x, text_y_cagr, f'CAGR: {cagr:.2f}%', fontsize=12, color='green',\n",
    "             ha='left', bbox=dict(facecolor='whitesmoke', edgecolor='gray', boxstyle='round,pad=0.4'))\n",
    "    plt.text(text_x, text_y_roi, f'ROI: {simple_roi:.2f}%', fontsize=12, color='green',\n",
    "             ha='left', bbox=dict(facecolor='whitesmoke', edgecolor='gray', boxstyle='round,pad=0.4'))\n",
    "    \n",
    "    # Show the plot\n",
    "    plt.show()"
   ]
  },
  {
   "cell_type": "code",
   "execution_count": 19,
   "metadata": {
    "id": "EGU9yvAufn6y"
   },
   "outputs": [],
   "source": [
    "def plot_portfolio_asset_allocation(trades_df, close_price_df, date=None):\n",
    "    \"\"\"\n",
    "    Plot a pie chart of the asset allocation of a portfolio.\n",
    "\n",
    "    Args:\n",
    "    trades_df: pandas DataFrame containing the trades made for the assets in the portfolio.\n",
    "    close_price_df: pandas DataFrame containing the closing price of the assets.\n",
    "\n",
    "    Returns:\n",
    "    None\n",
    "    \"\"\"\n",
    "\n",
    "    # Get equity valuation dataframe\n",
    "    equity_valuation_df = get_equity_valuation_df(trades_df, close_price_df, \"detailed\", date=date)\n",
    "\n",
    "    # Filter and sort dataframe to include only open assets and cash\n",
    "    equity_valuation_df = equity_valuation_df.loc[(equity_valuation_df['Open'] == True) | (equity_valuation_df['Asset'] == 'Cash'), ['Asset', 'Net ROI ($)', 'Weightage w/o Cash (%)', 'Weightage w. Cash (%)']]\n",
    "    equity_valuation_df = equity_valuation_df.sort_values(by='Weightage w. Cash (%)', ascending=False)\n",
    "\n",
    "    # Move the Cash row to the first row of the dataframe\n",
    "    cash_row = equity_valuation_df.loc[equity_valuation_df['Asset'] == 'Cash']\n",
    "    equity_valuation_df.drop(cash_row.index, inplace=True)\n",
    "    equity_valuation_df = pd.concat([cash_row, equity_valuation_df], ignore_index=True)\n",
    "\n",
    "    # remove Cash row from equity_valuation_df\n",
    "    equity_valuation_df_drop_cash = equity_valuation_df[equity_valuation_df['Asset'] != 'Cash']\n",
    "\n",
    "    # Extract labels for pie charts\n",
    "    labels = equity_valuation_df['Asset']\n",
    "    labels_drop_cash = equity_valuation_df_drop_cash['Asset']\n",
    "    num_assets = len(labels)\n",
    "\n",
    "    # Create subplots for pie charts\n",
    "    fig, (ax1, ax2) = plt.subplots(1, 2, figsize=(10, 5))\n",
    "    # Adjust the spacing between the subplots\n",
    "    fig.subplots_adjust(wspace=0.2)\n",
    "\n",
    "    # Generate a list of colors using seaborn color palette\n",
    "    palette = sns.color_palette('deep', n_colors=num_assets)\n",
    "    colors_with_cash = [palette[i] for i in range(num_assets)]\n",
    "    colors_without_cash = colors_with_cash[1:]\n",
    "\n",
    "    # Define threshold percentage for displaying labels\n",
    "    label_threshold = 5\n",
    "\n",
    "    # Use the colors to plot the first pie chart (weightage without cash)\n",
    "    pie1 = ax1.pie(equity_valuation_df_drop_cash['Weightage w/o Cash (%)'], labels=labels_drop_cash, autopct=lambda pct: f\"{pct:.1f}%\" if pct > label_threshold else '', counterclock=False, startangle=90, colors=colors_without_cash)\n",
    "    # Set the color and font size of the label text\n",
    "    plt.setp(pie1[1], color='k', fontsize=10)\n",
    "    plt.setp(pie1[2], color='w', fontsize=10)\n",
    "\n",
    "    # Use the colors to plot the second pie chart (weightage with cash)\n",
    "    pie2 = ax2.pie(equity_valuation_df['Weightage w. Cash (%)'], labels=labels, autopct=lambda pct: f\"{pct:.1f}%\" if pct > label_threshold else '', counterclock=False, startangle=90, colors=colors_with_cash)\n",
    "    # Set the color and font size of the label text\n",
    "    plt.setp(pie2[1], color='k', fontsize=10)\n",
    "    plt.setp(pie2[2], color='w', fontsize=10)\n",
    "\n",
    "    # Set titles and legend for the plots\n",
    "    ax1.set_title('Weightage without cash', fontsize=14, fontweight='bold')\n",
    "    ax2.set_title('Weightage with cash', fontsize=14, fontweight='bold')\n",
    "    fig.suptitle('Portfolio Asset Allocation', fontsize=18, fontweight='bold')\n",
    "    # Get the legend handles and labels from the second plot\n",
    "    handles, labels = ax2.get_legend_handles_labels()\n",
    "    # Set the legend with the handles and labels, centered and outside the plot\n",
    "    fig.legend(handles, labels, loc='center', bbox_to_anchor=(0.5, 0.0), ncol=5, fontsize=12)\n",
    "\n",
    "    # Show the plots\n",
    "    plt.show()"
   ]
  },
  {
   "cell_type": "code",
   "execution_count": 20,
   "metadata": {
    "id": "NFeOr9HCPCId"
   },
   "outputs": [],
   "source": [
    "valuation_type_dropdown = widgets.Dropdown(\n",
    "    options=['Unrealized Gain/Loss ($)', 'Unrealized Gain/Loss (%)', 'Realized Gain/Loss ($)', 'Net ROI ($)', 'Net ROI (%)'],\n",
    "    value='Unrealized Gain/Loss ($)',\n",
    "    description='Valuation Type:',\n",
    "    layout={'width': '300px'},\n",
    "    style={'description_width': 'initial'}\n",
    ")"
   ]
  },
  {
   "cell_type": "code",
   "execution_count": 21,
   "metadata": {
    "id": "CkLclFPvWLdh"
   },
   "outputs": [],
   "source": [
    "def plot_equity_valuation(trades_df, close_price_df, valuation_type_dropdown, valuation_type=\"detailed\"):\n",
    "    # Check if the input for the valuation type dropdown is valid\n",
    "    if valuation_type_dropdown.value not in ['Unrealized Gain/Loss ($)', 'Unrealized Gain/Loss (%)', 'Realized Gain/Loss ($)', 'Net ROI ($)', 'Net ROI (%)']:\n",
    "        print(\"Invalid input. Please select from ['Unrealized Gain/Loss ($)', 'Unrealized Gain/Loss (%)', 'Realized Gain/Loss ($)', 'Net ROI ($)', 'Net ROI (%)'].\")\n",
    "        return\n",
    "\n",
    "    # Get the equity valuation DataFrame based on the trades and close prices DataFrames\n",
    "    equity_valuation_df = get_equity_valuation_df(trades_df, close_price_df, valuation_type)\n",
    "    # Filter the DataFrame to only show open positions and exclude the cash asset\n",
    "    if valuation_type_dropdown.value in ['Unrealized Gain/Loss ($)', 'Unrealized Gain/Loss (%)']:\n",
    "        equity_valuation_df = equity_valuation_df.loc[(equity_valuation_df['Open'] == True) & (equity_valuation_df['Asset'] != 'Cash'), ['Asset', valuation_type_dropdown.value]]\n",
    "    else:\n",
    "        equity_valuation_df.loc[(equity_valuation_df['Asset'] != 'Cash'), ['Asset', valuation_type_dropdown.value]]\n",
    "\n",
    "    # Sort the DataFrame by the selected valuation type in descending order\n",
    "    equity_valuation_df = equity_valuation_df.sort_values(valuation_type_dropdown.value, ascending=False)\n",
    "\n",
    "    # Set the colormap and normalize values\n",
    "    highest_val = equity_valuation_df[valuation_type_dropdown.value].max()\n",
    "    lowest_val = equity_valuation_df[valuation_type_dropdown.value].min()\n",
    "    cmap = mcolors.LinearSegmentedColormap.from_list('mycmap', ['#439A97', '#97DECE'], N=256)\n",
    "    norm = mcolors.Normalize(vmin=lowest_val, vmax=highest_val)\n",
    "\n",
    "    # Create the plot figure and axis\n",
    "    fig, ax = plt.subplots(figsize=(15, 6))\n",
    "    plt.style.use('ggplot')\n",
    "\n",
    "    # Create horizontal bar chart\n",
    "    bars = ax.barh(equity_valuation_df['Asset'], equity_valuation_df[valuation_type_dropdown.value],\n",
    "                   color=cmap(norm(equity_valuation_df[valuation_type_dropdown.value])))\n",
    "\n",
    "    # Set labels and title for the plot\n",
    "    ax.set_xlabel(valuation_type_dropdown.value)\n",
    "    ax.set_ylabel('Asset')\n",
    "    ax.set_title(f'{valuation_type_dropdown.value} by Asset', fontsize=18, fontweight='bold')\n",
    "\n",
    "    # Add value labels to the bars\n",
    "    for bar in bars:\n",
    "        width = bar.get_width()\n",
    "        label = f'{width:.2f}'\n",
    "        if width < 0:\n",
    "            ax.text(width - 0.3, bar.get_y() + bar.get_height() / 2, label, ha='right', va='center', fontsize=12)\n",
    "        else:\n",
    "            ax.text(width + 0.3, bar.get_y() + bar.get_height() / 2, label, ha='left', va='center', fontsize=12)\n",
    "\n",
    "    # Remove top and right spines from the axis\n",
    "    ax.spines['top'].set_visible(False)\n",
    "    ax.spines['right'].set_visible(False)\n",
    "\n",
    "    # Add x-axis gridlines and invert the y-axis\n",
    "    ax.xaxis.grid(True)\n",
    "    ax.invert_yaxis()\n",
    "\n",
    "    # Set x-axis limits with a padding of 5\n",
    "    ax.set_xlim([min(equity_valuation_df[valuation_type_dropdown.value]) - 5, max(equity_valuation_df[valuation_type_dropdown.value]) + 5])\n",
    "\n",
    "    # Adjust subplot layout and display the plot\n",
    "    plt.tight_layout(pad=3)\n",
    "    plt.subplots_adjust(left=0.2)\n",
    "    plt.show()"
   ]
  },
  {
   "cell_type": "markdown",
   "metadata": {
    "id": "x8bso_MvfXSC"
   },
   "source": [
    "## Run Functions"
   ]
  },
  {
   "cell_type": "code",
   "execution_count": 22,
   "metadata": {
    "colab": {
     "base_uri": "https://localhost:8080/",
     "height": 328
    },
    "id": "X99ZO-UwYs4H",
    "outputId": "06ca8f13-98af-4543-d9b8-bdc85771dbe0"
   },
   "outputs": [
    {
     "data": {
      "text/html": [
       "<div>\n",
       "<style scoped>\n",
       "    .dataframe tbody tr th:only-of-type {\n",
       "        vertical-align: middle;\n",
       "    }\n",
       "\n",
       "    .dataframe tbody tr th {\n",
       "        vertical-align: top;\n",
       "    }\n",
       "\n",
       "    .dataframe thead th {\n",
       "        text-align: right;\n",
       "    }\n",
       "</style>\n",
       "<table border=\"1\" class=\"dataframe\">\n",
       "  <thead>\n",
       "    <tr style=\"text-align: right;\">\n",
       "      <th></th>\n",
       "      <th>Date</th>\n",
       "      <th>Type</th>\n",
       "      <th>Broker</th>\n",
       "      <th>Ticker</th>\n",
       "      <th>Transacted Units</th>\n",
       "      <th>Transacted Price (per unit)</th>\n",
       "      <th>Fees</th>\n",
       "      <th>Stock Split Ratio</th>\n",
       "      <th>Transacted Value</th>\n",
       "      <th>Previous Units</th>\n",
       "      <th>Cumulative Units</th>\n",
       "      <th>Previous Cost</th>\n",
       "      <th>Cost Basis</th>\n",
       "      <th>Cumulative Cost</th>\n",
       "      <th>Realized Gain/Loss ($)</th>\n",
       "      <th>Realized Gain/Loss (%)</th>\n",
       "      <th>Cash Balance</th>\n",
       "      <th>Cash Flow</th>\n",
       "      <th>Net Cash Injection</th>\n",
       "    </tr>\n",
       "  </thead>\n",
       "  <tbody>\n",
       "    <tr>\n",
       "      <th>0</th>\n",
       "      <td>2022-03-02</td>\n",
       "      <td>Dep</td>\n",
       "      <td>IBKR</td>\n",
       "      <td>NA</td>\n",
       "      <td>0.00</td>\n",
       "      <td>5000.00</td>\n",
       "      <td>0.00</td>\n",
       "      <td>0.00</td>\n",
       "      <td>5000.00</td>\n",
       "      <td>0.00</td>\n",
       "      <td>0.00</td>\n",
       "      <td>0.00</td>\n",
       "      <td>NaN</td>\n",
       "      <td>0.00</td>\n",
       "      <td>NaN</td>\n",
       "      <td>NaN</td>\n",
       "      <td>5000.00</td>\n",
       "      <td>5000.00</td>\n",
       "      <td>5000.00</td>\n",
       "    </tr>\n",
       "    <tr>\n",
       "      <th>1</th>\n",
       "      <td>2022-03-03</td>\n",
       "      <td>Dep</td>\n",
       "      <td>IBKR</td>\n",
       "      <td>NA</td>\n",
       "      <td>0.00</td>\n",
       "      <td>2000.00</td>\n",
       "      <td>0.00</td>\n",
       "      <td>0.00</td>\n",
       "      <td>2000.00</td>\n",
       "      <td>0.00</td>\n",
       "      <td>0.00</td>\n",
       "      <td>0.00</td>\n",
       "      <td>NaN</td>\n",
       "      <td>0.00</td>\n",
       "      <td>NaN</td>\n",
       "      <td>NaN</td>\n",
       "      <td>7000.00</td>\n",
       "      <td>2000.00</td>\n",
       "      <td>7000.00</td>\n",
       "    </tr>\n",
       "    <tr>\n",
       "      <th>2</th>\n",
       "      <td>2022-03-04</td>\n",
       "      <td>Buy</td>\n",
       "      <td>IBKR</td>\n",
       "      <td>AAPL</td>\n",
       "      <td>2.50</td>\n",
       "      <td>164.94</td>\n",
       "      <td>1.00</td>\n",
       "      <td>0.00</td>\n",
       "      <td>413.35</td>\n",
       "      <td>0.00</td>\n",
       "      <td>2.50</td>\n",
       "      <td>0.00</td>\n",
       "      <td>NaN</td>\n",
       "      <td>413.35</td>\n",
       "      <td>NaN</td>\n",
       "      <td>NaN</td>\n",
       "      <td>6586.65</td>\n",
       "      <td>0.00</td>\n",
       "      <td>7000.00</td>\n",
       "    </tr>\n",
       "    <tr>\n",
       "      <th>3</th>\n",
       "      <td>2022-03-04</td>\n",
       "      <td>Buy</td>\n",
       "      <td>IBKR</td>\n",
       "      <td>TSLA</td>\n",
       "      <td>1.32</td>\n",
       "      <td>839.97</td>\n",
       "      <td>1.00</td>\n",
       "      <td>0.00</td>\n",
       "      <td>1113.12</td>\n",
       "      <td>0.00</td>\n",
       "      <td>1.32</td>\n",
       "      <td>0.00</td>\n",
       "      <td>NaN</td>\n",
       "      <td>1113.12</td>\n",
       "      <td>NaN</td>\n",
       "      <td>NaN</td>\n",
       "      <td>5473.53</td>\n",
       "      <td>0.00</td>\n",
       "      <td>7000.00</td>\n",
       "    </tr>\n",
       "    <tr>\n",
       "      <th>4</th>\n",
       "      <td>2022-03-14</td>\n",
       "      <td>Buy</td>\n",
       "      <td>IBKR</td>\n",
       "      <td>TSLA</td>\n",
       "      <td>2.20</td>\n",
       "      <td>759.09</td>\n",
       "      <td>1.00</td>\n",
       "      <td>0.00</td>\n",
       "      <td>1671.00</td>\n",
       "      <td>1.32</td>\n",
       "      <td>3.52</td>\n",
       "      <td>1113.12</td>\n",
       "      <td>NaN</td>\n",
       "      <td>2784.12</td>\n",
       "      <td>NaN</td>\n",
       "      <td>NaN</td>\n",
       "      <td>3802.53</td>\n",
       "      <td>0.00</td>\n",
       "      <td>7000.00</td>\n",
       "    </tr>\n",
       "  </tbody>\n",
       "</table>\n",
       "</div>"
      ],
      "text/plain": [
       "        Date Type Broker Ticker  Transacted Units   \n",
       "0 2022-03-02  Dep   IBKR     NA              0.00  \\\n",
       "1 2022-03-03  Dep   IBKR     NA              0.00   \n",
       "2 2022-03-04  Buy   IBKR   AAPL              2.50   \n",
       "3 2022-03-04  Buy   IBKR   TSLA              1.32   \n",
       "4 2022-03-14  Buy   IBKR   TSLA              2.20   \n",
       "\n",
       "   Transacted Price (per unit)  Fees  Stock Split Ratio  Transacted Value   \n",
       "0                      5000.00  0.00               0.00           5000.00  \\\n",
       "1                      2000.00  0.00               0.00           2000.00   \n",
       "2                       164.94  1.00               0.00            413.35   \n",
       "3                       839.97  1.00               0.00           1113.12   \n",
       "4                       759.09  1.00               0.00           1671.00   \n",
       "\n",
       "   Previous Units  Cumulative Units  Previous Cost  Cost Basis   \n",
       "0            0.00              0.00           0.00         NaN  \\\n",
       "1            0.00              0.00           0.00         NaN   \n",
       "2            0.00              2.50           0.00         NaN   \n",
       "3            0.00              1.32           0.00         NaN   \n",
       "4            1.32              3.52        1113.12         NaN   \n",
       "\n",
       "   Cumulative Cost  Realized Gain/Loss ($)  Realized Gain/Loss (%)   \n",
       "0             0.00                     NaN                     NaN  \\\n",
       "1             0.00                     NaN                     NaN   \n",
       "2           413.35                     NaN                     NaN   \n",
       "3          1113.12                     NaN                     NaN   \n",
       "4          2784.12                     NaN                     NaN   \n",
       "\n",
       "   Cash Balance  Cash Flow  Net Cash Injection  \n",
       "0       5000.00    5000.00             5000.00  \n",
       "1       7000.00    2000.00             7000.00  \n",
       "2       6586.65       0.00             7000.00  \n",
       "3       5473.53       0.00             7000.00  \n",
       "4       3802.53       0.00             7000.00  "
      ]
     },
     "execution_count": 22,
     "metadata": {},
     "output_type": "execute_result"
    }
   ],
   "source": [
    "# Run the function\n",
    "trades_df = (df.pipe(create_trades_df)\n",
    "                .pipe(calculate_transacted_value)\n",
    "                .pipe(calculate_cash_balance)\n",
    "                .pipe(calculate_net_cash_injection)\n",
    "                .pipe(calculate_units)\n",
    "                .pipe(calculate_cost_and_roi))\n",
    "\n",
    "# Print the dataframe\n",
    "trades_df.head()"
   ]
  },
  {
   "cell_type": "code",
   "execution_count": 23,
   "metadata": {
    "colab": {
     "base_uri": "https://localhost:8080/",
     "height": 397
    },
    "id": "YAR8c6sSYzii",
    "outputId": "c95980f4-8d77-4f2f-8115-52032d06f7bd"
   },
   "outputs": [
    {
     "name": "stdout",
     "output_type": "stream",
     "text": [
      "[*********************100%%**********************]  1 of 1 completed\n",
      "[*********************100%%**********************]  1 of 1 completed\n"
     ]
    },
    {
     "data": {
      "text/html": [
       "<div>\n",
       "<style scoped>\n",
       "    .dataframe tbody tr th:only-of-type {\n",
       "        vertical-align: middle;\n",
       "    }\n",
       "\n",
       "    .dataframe tbody tr th {\n",
       "        vertical-align: top;\n",
       "    }\n",
       "\n",
       "    .dataframe thead th {\n",
       "        text-align: right;\n",
       "    }\n",
       "</style>\n",
       "<table border=\"1\" class=\"dataframe\">\n",
       "  <thead>\n",
       "    <tr style=\"text-align: right;\">\n",
       "      <th></th>\n",
       "      <th>AAPL</th>\n",
       "      <th>TSLA</th>\n",
       "    </tr>\n",
       "  </thead>\n",
       "  <tbody>\n",
       "    <tr>\n",
       "      <th>2022-03-02</th>\n",
       "      <td>166.56</td>\n",
       "      <td>879.89</td>\n",
       "    </tr>\n",
       "    <tr>\n",
       "      <th>2022-03-03</th>\n",
       "      <td>166.23</td>\n",
       "      <td>839.29</td>\n",
       "    </tr>\n",
       "    <tr>\n",
       "      <th>2022-03-04</th>\n",
       "      <td>163.17</td>\n",
       "      <td>838.29</td>\n",
       "    </tr>\n",
       "    <tr>\n",
       "      <th>2022-03-05</th>\n",
       "      <td>163.17</td>\n",
       "      <td>838.29</td>\n",
       "    </tr>\n",
       "    <tr>\n",
       "      <th>2022-03-06</th>\n",
       "      <td>163.17</td>\n",
       "      <td>838.29</td>\n",
       "    </tr>\n",
       "  </tbody>\n",
       "</table>\n",
       "</div>"
      ],
      "text/plain": [
       "             AAPL   TSLA\n",
       "2022-03-02 166.56 879.89\n",
       "2022-03-03 166.23 839.29\n",
       "2022-03-04 163.17 838.29\n",
       "2022-03-05 163.17 838.29\n",
       "2022-03-06 163.17 838.29"
      ]
     },
     "execution_count": 23,
     "metadata": {},
     "output_type": "execute_result"
    }
   ],
   "source": [
    "# Define inception date & Run close_price_df\n",
    "inception_date = trades_df['Date'].iloc[0]\n",
    "close_price_df = download_close_prices(df=trades_df, start_date=inception_date, end_date='today')\n",
    "\n",
    "# Print the dataframe\n",
    "close_price_df.head()"
   ]
  },
  {
   "cell_type": "code",
   "execution_count": 24,
   "metadata": {
    "colab": {
     "base_uri": "https://localhost:8080/",
     "height": 443
    },
    "id": "_xm-j_A_Zs90",
    "outputId": "46ab87b2-3e91-4758-8141-521358d23f7f"
   },
   "outputs": [
    {
     "data": {
      "text/html": [
       "<div>\n",
       "<style scoped>\n",
       "    .dataframe tbody tr th:only-of-type {\n",
       "        vertical-align: middle;\n",
       "    }\n",
       "\n",
       "    .dataframe tbody tr th {\n",
       "        vertical-align: top;\n",
       "    }\n",
       "\n",
       "    .dataframe thead th {\n",
       "        text-align: right;\n",
       "    }\n",
       "</style>\n",
       "<table border=\"1\" class=\"dataframe\">\n",
       "  <thead>\n",
       "    <tr style=\"text-align: right;\">\n",
       "      <th></th>\n",
       "      <th>Asset</th>\n",
       "      <th>Open</th>\n",
       "      <th>No. of Units</th>\n",
       "      <th>Average Cost per Unit ($)</th>\n",
       "      <th>Total Cost ($)</th>\n",
       "      <th>Closing Price ($)</th>\n",
       "      <th>Market Value ($)</th>\n",
       "      <th>Unrealized Gain/Loss ($)</th>\n",
       "      <th>Unrealized Gain/Loss (%)</th>\n",
       "      <th>Realized Gain/Loss ($)</th>\n",
       "      <th>Dividend Collected ($)</th>\n",
       "      <th>Net ROI ($)</th>\n",
       "      <th>Net ROI (%)</th>\n",
       "      <th>Weightage w/o Cash (%)</th>\n",
       "      <th>Weightage w. Cash (%)</th>\n",
       "    </tr>\n",
       "  </thead>\n",
       "  <tbody>\n",
       "    <tr>\n",
       "      <th>0</th>\n",
       "      <td>Cash</td>\n",
       "      <td>True</td>\n",
       "      <td>NaN</td>\n",
       "      <td>NaN</td>\n",
       "      <td>NaN</td>\n",
       "      <td>NaN</td>\n",
       "      <td>3299.51</td>\n",
       "      <td>NaN</td>\n",
       "      <td>NaN</td>\n",
       "      <td>NaN</td>\n",
       "      <td>NaN</td>\n",
       "      <td>NaN</td>\n",
       "      <td>NaN</td>\n",
       "      <td>NaN</td>\n",
       "      <td>39.83</td>\n",
       "    </tr>\n",
       "    <tr>\n",
       "      <th>1</th>\n",
       "      <td>AAPL</td>\n",
       "      <td>True</td>\n",
       "      <td>2.50</td>\n",
       "      <td>165.34</td>\n",
       "      <td>413.35</td>\n",
       "      <td>176.38</td>\n",
       "      <td>440.95</td>\n",
       "      <td>27.60</td>\n",
       "      <td>6.68</td>\n",
       "      <td>0.00</td>\n",
       "      <td>-0.85</td>\n",
       "      <td>26.75</td>\n",
       "      <td>6.47</td>\n",
       "      <td>8.84</td>\n",
       "      <td>5.32</td>\n",
       "    </tr>\n",
       "    <tr>\n",
       "      <th>2</th>\n",
       "      <td>TSLA</td>\n",
       "      <td>True</td>\n",
       "      <td>16.67</td>\n",
       "      <td>225.41</td>\n",
       "      <td>3758.06</td>\n",
       "      <td>272.58</td>\n",
       "      <td>4544.37</td>\n",
       "      <td>786.31</td>\n",
       "      <td>20.92</td>\n",
       "      <td>155.08</td>\n",
       "      <td>0.00</td>\n",
       "      <td>941.39</td>\n",
       "      <td>19.67</td>\n",
       "      <td>91.16</td>\n",
       "      <td>54.85</td>\n",
       "    </tr>\n",
       "  </tbody>\n",
       "</table>\n",
       "</div>"
      ],
      "text/plain": [
       "  Asset  Open  No. of Units  Average Cost per Unit ($)  Total Cost ($)   \n",
       "0  Cash  True           NaN                        NaN             NaN  \\\n",
       "1  AAPL  True          2.50                     165.34          413.35   \n",
       "2  TSLA  True         16.67                     225.41         3758.06   \n",
       "\n",
       "   Closing Price ($)  Market Value ($)  Unrealized Gain/Loss ($)   \n",
       "0                NaN           3299.51                       NaN  \\\n",
       "1             176.38            440.95                     27.60   \n",
       "2             272.58           4544.37                    786.31   \n",
       "\n",
       "   Unrealized Gain/Loss (%)  Realized Gain/Loss ($)  Dividend Collected ($)   \n",
       "0                       NaN                     NaN                     NaN  \\\n",
       "1                      6.68                    0.00                   -0.85   \n",
       "2                     20.92                  155.08                    0.00   \n",
       "\n",
       "   Net ROI ($)  Net ROI (%)  Weightage w/o Cash (%)  Weightage w. Cash (%)  \n",
       "0          NaN          NaN                     NaN                  39.83  \n",
       "1        26.75         6.47                    8.84                   5.32  \n",
       "2       941.39        19.67                   91.16                  54.85  "
      ]
     },
     "execution_count": 24,
     "metadata": {},
     "output_type": "execute_result"
    }
   ],
   "source": [
    "# equity valuation df\n",
    "equity_valuation_df = get_equity_valuation_df(trades_df, close_price_df, option_mini_detailed=\"detailed\", date=None)\n",
    "\n",
    "# Print the dataframe\n",
    "equity_valuation_df"
   ]
  },
  {
   "cell_type": "code",
   "execution_count": 25,
   "metadata": {
    "colab": {
     "base_uri": "https://localhost:8080/",
     "height": 0
    },
    "id": "uButaHHCZ_uh",
    "outputId": "d5c347c0-1f20-4f02-eb46-2a070c1b7362"
   },
   "outputs": [
    {
     "data": {
      "text/html": [
       "<div>\n",
       "<style scoped>\n",
       "    .dataframe tbody tr th:only-of-type {\n",
       "        vertical-align: middle;\n",
       "    }\n",
       "\n",
       "    .dataframe tbody tr th {\n",
       "        vertical-align: top;\n",
       "    }\n",
       "\n",
       "    .dataframe thead th {\n",
       "        text-align: right;\n",
       "    }\n",
       "</style>\n",
       "<table border=\"1\" class=\"dataframe\">\n",
       "  <thead>\n",
       "    <tr style=\"text-align: right;\">\n",
       "      <th></th>\n",
       "      <th>Date</th>\n",
       "      <th>Cash Flow</th>\n",
       "      <th>Net Cash Injection</th>\n",
       "      <th>Portfolio Value</th>\n",
       "      <th>Cash Balance</th>\n",
       "      <th>NAV</th>\n",
       "      <th>Return (%)</th>\n",
       "    </tr>\n",
       "  </thead>\n",
       "  <tbody>\n",
       "    <tr>\n",
       "      <th>0</th>\n",
       "      <td>2022-03-02</td>\n",
       "      <td>5000.00</td>\n",
       "      <td>5000.00</td>\n",
       "      <td>0.00</td>\n",
       "      <td>5000.00</td>\n",
       "      <td>5000.00</td>\n",
       "      <td>0.00</td>\n",
       "    </tr>\n",
       "    <tr>\n",
       "      <th>1</th>\n",
       "      <td>2022-03-03</td>\n",
       "      <td>2000.00</td>\n",
       "      <td>7000.00</td>\n",
       "      <td>0.00</td>\n",
       "      <td>7000.00</td>\n",
       "      <td>7000.00</td>\n",
       "      <td>0.00</td>\n",
       "    </tr>\n",
       "    <tr>\n",
       "      <th>2</th>\n",
       "      <td>2022-03-04</td>\n",
       "      <td>0.00</td>\n",
       "      <td>7000.00</td>\n",
       "      <td>1517.82</td>\n",
       "      <td>5473.53</td>\n",
       "      <td>6991.35</td>\n",
       "      <td>-0.12</td>\n",
       "    </tr>\n",
       "    <tr>\n",
       "      <th>3</th>\n",
       "      <td>2022-03-04</td>\n",
       "      <td>0.00</td>\n",
       "      <td>7000.00</td>\n",
       "      <td>1517.82</td>\n",
       "      <td>5473.53</td>\n",
       "      <td>6991.35</td>\n",
       "      <td>-0.12</td>\n",
       "    </tr>\n",
       "    <tr>\n",
       "      <th>4</th>\n",
       "      <td>2022-03-05</td>\n",
       "      <td>0.00</td>\n",
       "      <td>7000.00</td>\n",
       "      <td>1517.82</td>\n",
       "      <td>5473.53</td>\n",
       "      <td>6991.35</td>\n",
       "      <td>-0.12</td>\n",
       "    </tr>\n",
       "  </tbody>\n",
       "</table>\n",
       "</div>"
      ],
      "text/plain": [
       "        Date  Cash Flow  Net Cash Injection  Portfolio Value  Cash Balance   \n",
       "0 2022-03-02    5000.00             5000.00             0.00       5000.00  \\\n",
       "1 2022-03-03    2000.00             7000.00             0.00       7000.00   \n",
       "2 2022-03-04       0.00             7000.00          1517.82       5473.53   \n",
       "3 2022-03-04       0.00             7000.00          1517.82       5473.53   \n",
       "4 2022-03-05       0.00             7000.00          1517.82       5473.53   \n",
       "\n",
       "      NAV  Return (%)  \n",
       "0 5000.00        0.00  \n",
       "1 7000.00        0.00  \n",
       "2 6991.35       -0.12  \n",
       "3 6991.35       -0.12  \n",
       "4 6991.35       -0.12  "
      ]
     },
     "execution_count": 25,
     "metadata": {},
     "output_type": "execute_result"
    }
   ],
   "source": [
    "daily_nav_df = get_daily_nav(start_date=inception_date, end_date='today')\n",
    "daily_nav_df.head()"
   ]
  },
  {
   "cell_type": "markdown",
   "metadata": {
    "id": "SE-SFowlaCg5"
   },
   "source": [
    "## Run Charts"
   ]
  },
  {
   "cell_type": "code",
   "execution_count": 26,
   "metadata": {
    "colab": {
     "base_uri": "https://localhost:8080/",
     "height": 575
    },
    "id": "73wGPn8XfXvu",
    "outputId": "fe64f4ce-818d-4fd3-f0f3-85b56489f41d"
   },
   "outputs": [
    {
     "data": {
      "image/png": "[encoded data removed]",
      "text/plain": [
       "<Figure size 1500x600 with 1 Axes>"
      ]
     },
     "metadata": {},
     "output_type": "display_data"
    }
   ],
   "source": [
    "plot_nav_over_time(trades_df, start_date=inception_date, end_date='today')"
   ]
  },
  {
   "cell_type": "code",
   "execution_count": 27,
   "metadata": {
    "colab": {
     "base_uri": "https://localhost:8080/",
     "height": 575
    },
    "id": "Z8cI_SXmNHSo",
    "outputId": "a74a4c5c-355e-4375-9971-2399026f32d2"
   },
   "outputs": [
    {
     "data": {
      "image/png": "[encoded data removed]",
      "text/plain": [
       "<Figure size 1500x600 with 1 Axes>"
      ]
     },
     "metadata": {},
     "output_type": "display_data"
    }
   ],
   "source": [
    "plot_nav_over_time(trades_df, start_date=\"2023-01-01\", end_date='today')"
   ]
  },
  {
   "cell_type": "code",
   "execution_count": 28,
   "metadata": {
    "colab": {
     "base_uri": "https://localhost:8080/",
     "height": 555
    },
    "id": "gF1HqJHry8x7",
    "outputId": "8ee36d71-1a20-4c95-e9d5-c3316a1ce4e2"
   },
   "outputs": [
    {
     "data": {
      "image/png": "[encoded data removed]",
      "text/plain": [
       "<Figure size 1000x500 with 2 Axes>"
      ]
     },
     "metadata": {},
     "output_type": "display_data"
    }
   ],
   "source": [
    "plot_portfolio_asset_allocation(trades_df, close_price_df, date='today')"
   ]
  },
  {
   "cell_type": "code",
   "execution_count": 29,
   "metadata": {
    "colab": {
     "base_uri": "https://localhost:8080/",
     "height": 49,
     "referenced_widgets": [
      "39af5290aa0946178beeb60b7d13d911",
      "e4f03873a8db4f26b8e7d9147aeac22f",
      "fb08cfd32ec24230af681b74c78ee026"
     ]
    },
    "id": "SUtN4-H3VjfC",
    "outputId": "431d0073-e21a-4911-8bc6-2b7223b6bac1"
   },
   "outputs": [
    {
     "data": {
      "application/vnd.jupyter.widget-view+json": {
       "model_id": "3a8886a28ad643788aeba8c98cdcff90",
       "version_major": 2,
       "version_minor": 0
      },
      "text/plain": [
       "Dropdown(description='Valuation Type:', layout=Layout(width='300px'), options=('Unrealized Gain/Loss ($)', 'Un…"
      ]
     },
     "execution_count": 29,
     "metadata": {},
     "output_type": "execute_result"
    }
   ],
   "source": [
    "# ipywidgets.dropdown might not works in certain platform  \n",
    "valuation_type_dropdown"
   ]
  },
  {
   "cell_type": "code",
   "execution_count": 30,
   "metadata": {
    "colab": {
     "base_uri": "https://localhost:8080/",
     "height": 553
    },
    "id": "ba5TW6R4WVBD",
    "outputId": "c0b8b747-1406-411a-9001-d84ea3618881"
   },
   "outputs": [
    {
     "data": {
      "image/png": "[encoded data removed]",
      "text/plain": [
       "<Figure size 1500x600 with 1 Axes>"
      ]
     },
     "metadata": {},
     "output_type": "display_data"
    }
   ],
   "source": [
    "plot_equity_valuation(trades_df, close_price_df, valuation_type_dropdown, valuation_type=\"detailed\")"
   ]
  }
 ],
 "metadata": {
  "colab": {
   "collapsed_sections": [
    "6djRMubCwlUX",
    "MCTghuPDcN-i",
    "CUWKXqi0mVpk",
    "hhHFj79koaME",
    "pIQkri4y5XNT",
    "A0otxOXjKj-n",
    "nVWg87LbU9wa",
    "kbxy9nznWEUk",
    "fPeaAEtprWEj",
    "x8bso_MvfXSC"
   ],
   "gpuType": "T4",
   "provenance": [],
   "toc_visible": true
  },
  "kernelspec": {
   "display_name": "Python 3 (ipykernel)",
   "language": "python",
   "name": "python3"
  },
  "language_info": {
   "codemirror_mode": {
    "name": "ipython",
    "version": 3
   },
   "file_extension": ".py",
   "mimetype": "text/x-python",
   "name": "python",
   "nbconvert_exporter": "python",
   "pygments_lexer": "ipython3",
   "version": "3.11.3"
  },
  "widgets": {
   "application/vnd.jupyter.widget-state+json": {
    "39af5290aa0946178beeb60b7d13d911": {
     "model_module": "@jupyter-widgets/controls",
     "model_module_version": "1.5.0",
     "model_name": "DropdownModel",
     "state": {
      "_dom_classes": [],
      "_model_module": "@jupyter-widgets/controls",
      "_model_module_version": "1.5.0",
      "_model_name": "DropdownModel",
      "_options_labels": [
       "Unrealized Gain/Loss ($)",
       "Unrealized Gain/Loss (%)",
       "Realized Gain/Loss ($)",
       "Net ROI ($)",
       "Net ROI (%)"
      ],
      "_view_count": null,
      "_view_module": "@jupyter-widgets/controls",
      "_view_module_version": "1.5.0",
      "_view_name": "DropdownView",
      "description": "Valuation Type:",
      "description_tooltip": null,
      "disabled": false,
      "index": 0,
      "layout": "IPY_MODEL_e4f03873a8db4f26b8e7d9147aeac22f",
      "style": "IPY_MODEL_fb08cfd32ec24230af681b74c78ee026"
     }
    },
    "e4f03873a8db4f26b8e7d9147aeac22f": {
     "model_module": "@jupyter-widgets/base",
     "model_module_version": "1.2.0",
     "model_name": "LayoutModel",
     "state": {
      "_model_module": "@jupyter-widgets/base",
      "_model_module_version": "1.2.0",
      "_model_name": "LayoutModel",
      "_view_count": null,
      "_view_module": "@jupyter-widgets/base",
      "_view_module_version": "1.2.0",
      "_view_name": "LayoutView",
      "align_content": null,
      "align_items": null,
      "align_self": null,
      "border": null,
      "bottom": null,
      "display": null,
      "flex": null,
      "flex_flow": null,
      "grid_area": null,
      "grid_auto_columns": null,
      "grid_auto_flow": null,
      "grid_auto_rows": null,
      "grid_column": null,
      "grid_gap": null,
      "grid_row": null,
      "grid_template_areas": null,
      "grid_template_columns": null,
      "grid_template_rows": null,
      "height": null,
      "justify_content": null,
      "justify_items": null,
      "left": null,
      "margin": null,
      "max_height": null,
      "max_width": null,
      "min_height": null,
      "min_width": null,
      "object_fit": null,
      "object_position": null,
      "order": null,
      "overflow": null,
      "overflow_x": null,
      "overflow_y": null,
      "padding": null,
      "right": null,
      "top": null,
      "visibility": null,
      "width": "300px"
     }
    },
    "fb08cfd32ec24230af681b74c78ee026": {
     "model_module": "@jupyter-widgets/controls",
     "model_module_version": "1.5.0",
     "model_name": "DescriptionStyleModel",
     "state": {
      "_model_module": "@jupyter-widgets/controls",
      "_model_module_version": "1.5.0",
      "_model_name": "DescriptionStyleModel",
      "_view_count": null,
      "_view_module": "@jupyter-widgets/base",
      "_view_module_version": "1.2.0",
      "_view_name": "StyleView",
      "description_width": "initial"
     }
    }
   }
  }
 },
 "nbformat": 4,
 "nbformat_minor": 4
}
